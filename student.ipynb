{
 "cells": [
  {
   "cell_type": "code",
   "execution_count": 1,
   "id": "2ae5feb4-60ed-4ccb-8ddd-c52af1151f7c",
   "metadata": {},
   "outputs": [],
   "source": [
    "import pandas as pd"
   ]
  },
  {
   "cell_type": "code",
   "execution_count": 19,
   "id": "33eac678-6fef-4bf5-9751-9f01b66e561e",
   "metadata": {},
   "outputs": [],
   "source": [
    "df = pd.read_csv(\"students.csv\")"
   ]
  },
  {
   "cell_type": "code",
   "execution_count": 21,
   "id": "d3d36620-baa3-446e-8901-2d390551f716",
   "metadata": {},
   "outputs": [
    {
     "name": "stdout",
     "output_type": "stream",
     "text": [
      "<class 'pandas.core.frame.DataFrame'>\n",
      "RangeIndex: 100 entries, 0 to 99\n",
      "Data columns (total 6 columns):\n",
      " #   Column          Non-Null Count  Dtype \n",
      "---  ------          --------------  ----- \n",
      " 0   Student_ID      100 non-null    object\n",
      " 1   Name            100 non-null    object\n",
      " 2   Age             100 non-null    int64 \n",
      " 3   Gender          100 non-null    object\n",
      " 4   Location        100 non-null    object\n",
      " 5   Enrolment_Date  100 non-null    object\n",
      "dtypes: int64(1), object(5)\n",
      "memory usage: 4.8+ KB\n"
     ]
    },
    {
     "data": {
      "text/plain": [
       "(None,\n",
       "   Student_ID       Name  Age  Gender   Location Enrolment_Date\n",
       " 0       S001  Student_1   24  Female    Kolkata     24/11/2023\n",
       " 1       S002  Student_2   32   Other    Chennai     27/02/2023\n",
       " 2       S003  Student_3   28   Other     Mumbai     13/01/2023\n",
       " 3       S004  Student_4   25  Female  Bangalore     21/05/2023\n",
       " 4       S005  Student_5   24   Other      Delhi     06/05/2023)"
      ]
     },
     "execution_count": 21,
     "metadata": {},
     "output_type": "execute_result"
    }
   ],
   "source": [
    "df.info(), df.head()"
   ]
  },
  {
   "cell_type": "code",
   "execution_count": 23,
   "id": "48b42ebc-fd8b-4367-ab33-112d44fc27d4",
   "metadata": {},
   "outputs": [],
   "source": [
    "missing_data = df.replace(r'^\\s*$', pd.NA,regex = True).isna().sum()"
   ]
  },
  {
   "cell_type": "code",
   "execution_count": 25,
   "id": "7c7056b7-63bf-445e-8314-967079175518",
   "metadata": {},
   "outputs": [],
   "source": [
    "duplicate_count = df.duplicated().sum()"
   ]
  },
  {
   "cell_type": "code",
   "execution_count": 27,
   "id": "27115bf6-75a7-4aec-83ee-07bd76f8cca7",
   "metadata": {},
   "outputs": [],
   "source": [
    "df['Gender'] = df ['Gender'].str.strip().str.strip().str.capitalize()"
   ]
  },
  {
   "cell_type": "code",
   "execution_count": 34,
   "id": "b1a1c302-2235-49d2-8af6-6c728cdba671",
   "metadata": {},
   "outputs": [],
   "source": [
    "df ['Enrolment_Data'] = pd.to_datetime(df['Enrolment_Date'], format = '%d/%m/%Y', errors ='coerce')"
   ]
  },
  {
   "cell_type": "code",
   "execution_count": 36,
   "id": "aea176e6-32c2-400f-a66a-427f558d7efc",
   "metadata": {},
   "outputs": [
    {
     "name": "stdout",
     "output_type": "stream",
     "text": [
      "<class 'pandas.core.frame.DataFrame'>\n",
      "RangeIndex: 100 entries, 0 to 99\n",
      "Data columns (total 7 columns):\n",
      " #   Column          Non-Null Count  Dtype         \n",
      "---  ------          --------------  -----         \n",
      " 0   Student_ID      100 non-null    object        \n",
      " 1   Name            100 non-null    object        \n",
      " 2   Age             100 non-null    int64         \n",
      " 3   Gender          100 non-null    object        \n",
      " 4   Location        100 non-null    object        \n",
      " 5   Enrolment_Date  100 non-null    object        \n",
      " 6   Enrolment_Data  100 non-null    datetime64[ns]\n",
      "dtypes: datetime64[ns](1), int64(1), object(5)\n",
      "memory usage: 5.6+ KB\n"
     ]
    }
   ],
   "source": [
    "cleaned_info = df.info()"
   ]
  },
  {
   "cell_type": "code",
   "execution_count": 38,
   "id": "fd46f076-3e72-441a-8bd2-e41de9095e8d",
   "metadata": {},
   "outputs": [
    {
     "data": {
      "text/plain": [
       "(Student_ID        0\n",
       " Name              0\n",
       " Age               0\n",
       " Gender            0\n",
       " Location          0\n",
       " Enrolment_Date    0\n",
       " dtype: int64,\n",
       " 0,\n",
       " None)"
      ]
     },
     "execution_count": 38,
     "metadata": {},
     "output_type": "execute_result"
    }
   ],
   "source": [
    "missing_data, duplicate_count, cleaned_info"
   ]
  },
  {
   "cell_type": "code",
   "execution_count": 40,
   "id": "b1e06d12-1f8b-4922-917d-fe637ab0d9e8",
   "metadata": {},
   "outputs": [],
   "source": [
    "import matplotlib.pyplot as plt\n",
    "import seaborn as sns"
   ]
  },
  {
   "cell_type": "code",
   "execution_count": 42,
   "id": "a30e052c-2245-4a92-9bab-584614775c65",
   "metadata": {},
   "outputs": [],
   "source": [
    "sns.set(style=\"whitegrid\")"
   ]
  },
  {
   "cell_type": "code",
   "execution_count": 44,
   "id": "53849164-7ccc-4d81-87be-5ae14ddb59fb",
   "metadata": {},
   "outputs": [],
   "source": [
    "gender_counts = df['Gender'].value_counts()"
   ]
  },
  {
   "cell_type": "code",
   "execution_count": 48,
   "id": "65b8b28c-07e7-4849-ae54-7bed2a96eea9",
   "metadata": {},
   "outputs": [],
   "source": [
    "location_counts = df['Location'].value_counts()"
   ]
  },
  {
   "cell_type": "code",
   "execution_count": 50,
   "id": "998374d4-e420-4071-b9a2-bbc490d23a33",
   "metadata": {},
   "outputs": [],
   "source": [
    "age_stats = df['Age'].describe()"
   ]
  },
  {
   "cell_type": "code",
   "execution_count": 60,
   "id": "f87467b9-24e1-42e4-8d7c-166a6c4b2abe",
   "metadata": {},
   "outputs": [],
   "source": [
    "df['Enrolment_Date'] = pd.to_datetime(df['Enrolment_Date'], dayfirst=True, errors='coerce')"
   ]
  },
  {
   "cell_type": "code",
   "execution_count": 62,
   "id": "60a568d9-ee66-405c-84b3-25befb5c234d",
   "metadata": {},
   "outputs": [],
   "source": [
    "monthly_enrolments = df['Enrolment_Date'].dt.to_period(\"M\").value_counts().sort_index()"
   ]
  },
  {
   "cell_type": "code",
   "execution_count": 64,
   "id": "6f826f36-f39d-44d8-84a4-6a1f8660548e",
   "metadata": {},
   "outputs": [
    {
     "data": {
      "image/png": "[encoded data removed]",
      "text/plain": [
       "<Figure size 1400x1000 with 4 Axes>"
      ]
     },
     "metadata": {},
     "output_type": "display_data"
    }
   ],
   "source": [
    "fig, axes = plt.subplots(2, 2, figsize= (14, 10))"
   ]
  },
  {
   "cell_type": "code",
   "execution_count": 66,
   "id": "20e1a471-6f73-47d5-abbc-bd175bb28a3f",
   "metadata": {},
   "outputs": [
    {
     "data": {
      "text/plain": [
       "Text(4.444444444444459, 0.5, 'Count')"
      ]
     },
     "execution_count": 66,
     "metadata": {},
     "output_type": "execute_result"
    }
   ],
   "source": [
    "sns.barplot(x=gender_counts.index, y=gender_counts.values, ax=axes[0,0])\n",
    "axes[0,0].set_title('Gender Distribution')\n",
    "axes[0,0].set_ylabel('Count')"
   ]
  },
  {
   "cell_type": "code",
   "execution_count": 68,
   "id": "60fd0fb9-9c45-4331-83a7-864fa1c16911",
   "metadata": {},
   "outputs": [],
   "source": [
    "sns.barplot(x=location_counts.index, y=location_counts.values, ax=axes[0,1])\n",
    "axes[0,1].set_ylabel('Count')\n",
    "axes[0,1].tick_params(axis='x', rotation=45)"
   ]
  },
  {
   "cell_type": "code",
   "execution_count": 70,
   "id": "db3bb1ce-7ca7-49ce-ba18-98ff20ca8426",
   "metadata": {},
   "outputs": [
    {
     "data": {
      "text/plain": [
       "Text(0.5, 4.444444444444445, 'Age')"
      ]
     },
     "execution_count": 70,
     "metadata": {},
     "output_type": "execute_result"
    }
   ],
   "source": [
    "sns.histplot(df['Age'], bins=10, kde= True, ax=axes[1,0])\n",
    "axes[1,0].set_title('Age Distribution')\n",
    "axes[1,0].set_xlabel('Age')"
   ]
  },
  {
   "cell_type": "code",
   "execution_count": 74,
   "id": "622efcb7-8a11-47e6-b02e-cfb57e1491ba",
   "metadata": {},
   "outputs": [
    {
     "data": {
      "text/plain": [
       "Text(596.2626262626261, 0.5, 'Monthly of Enrolmnts')"
      ]
     },
     "execution_count": 74,
     "metadata": {},
     "output_type": "execute_result"
    }
   ],
   "source": [
    "monthly_enrolments.plot(kind='line', marker= 'o', ax=axes[1,1])\n",
    "axes[1,1].set_title('Monthly Enrolmnts')\n",
    "axes[1,1].set_xlabel('Month')\n",
    "axes[1,1].set_ylabel('Monthly of Enrolmnts')"
   ]
  },
  {
   "cell_type": "code",
   "execution_count": 76,
   "id": "6f9db0ea-7106-4f8c-abe4-0896ad8ebb67",
   "metadata": {},
   "outputs": [
    {
     "data": {
      "text/plain": [
       "<Figure size 640x480 with 0 Axes>"
      ]
     },
     "metadata": {},
     "output_type": "display_data"
    }
   ],
   "source": [
    "plt.tight_layout()\n",
    "plt.show()"
   ]
  },
  {
   "cell_type": "code",
   "execution_count": 80,
   "id": "599becc6-5f9e-4cd9-8a6a-5b56a6981f5a",
   "metadata": {},
   "outputs": [
    {
     "data": {
      "text/plain": [
       "count    100.000000\n",
       "mean      25.480000\n",
       "std        4.835642\n",
       "min       18.000000\n",
       "25%       21.000000\n",
       "50%       25.000000\n",
       "75%       29.000000\n",
       "max       34.000000\n",
       "Name: Age, dtype: float64"
      ]
     },
     "execution_count": 80,
     "metadata": {},
     "output_type": "execute_result"
    }
   ],
   "source": [
    "age_stats"
   ]
  },
  {
   "cell_type": "code",
   "execution_count": null,
   "id": "5130634e-b0a3-469a-86b8-8d89d0fa2c97",
   "metadata": {},
   "outputs": [],
   "source": []
  }
 ],
 "metadata": {
  "kernelspec": {
   "display_name": "Python 3 (ipykernel)",
   "language": "python",
   "name": "python3"
  },
  "language_info": {
   "codemirror_mode": {
    "name": "ipython",
    "version": 3
   },
   "file_extension": ".py",
   "mimetype": "text/x-python",
   "name": "python",
   "nbconvert_exporter": "python",
   "pygments_lexer": "ipython3",
   "version": "3.12.4"
  }
 },
 "nbformat": 4,
 "nbformat_minor": 5
}
